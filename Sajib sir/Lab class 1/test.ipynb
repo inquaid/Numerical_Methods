{
 "cells": [
  {
   "cell_type": "code",
   "execution_count": 3,
   "metadata": {},
   "outputs": [
    {
     "name": "stdout",
     "output_type": "stream",
     "text": [
      "6816113099648\n"
     ]
    }
   ],
   "source": [
    "class Test:\n",
    "    def __init__(self, eqn):\n",
    "        self.symbol = \"+\"\n",
    "        self.num = 0\n",
    "        self.x = [-1, 1]  # x[0] = value, x[1] = power\n",
    "        self.y = [-1, 1]  # y[0] = value, y[1] = power\n",
    "\n",
    "        index = 0\n",
    "        length = len(eqn)\n",
    "\n",
    "        if eqn[0] == \"-\":\n",
    "            self.symbol = \"-\"\n",
    "            index += 1\n",
    "        elif eqn[0] == \"+\":\n",
    "            index += 1\n",
    "\n",
    "        num_temp = \"\"\n",
    "        while index < length and eqn[index].isdigit():\n",
    "            num_temp += eqn[index]\n",
    "            index += 1\n",
    "\n",
    "        if num_temp:\n",
    "            self.num = int(num_temp)\n",
    "\n",
    "        while index < length and (eqn[index] == \"x\" or eqn[index] == \"y\"):\n",
    "            if eqn[index] == \"x\":\n",
    "                index += 1\n",
    "                power_temp = \"\"\n",
    "                while index < length and eqn[index].isdigit():\n",
    "                    power_temp += eqn[index]\n",
    "                    index += 1\n",
    "                self.x[0] = 1\n",
    "                if power_temp == \"\":\n",
    "                    power_temp = \"1\"\n",
    "                self.x[1] = int(power_temp)\n",
    "            else:\n",
    "                index += 1\n",
    "                power_temp = \"\"\n",
    "                while index < length and eqn[index].isdigit():\n",
    "                    power_temp += eqn[index]\n",
    "                    index += 1\n",
    "                self.y[0] = 1\n",
    "                if power_temp == \"\":\n",
    "                    power_temp = \"1\"\n",
    "                self.y[1] = int(power_temp)\n",
    "\n",
    "    def calculate(self, x, y):\n",
    "        if self.x[0] == -1:\n",
    "            self.x[0] = 1\n",
    "            self.x[1] = 1\n",
    "        else:\n",
    "            self.x[0] = x\n",
    "\n",
    "        if self.y[0] == -1:\n",
    "            self.y[0] = 1\n",
    "            self.y[0] = 1\n",
    "        else:\n",
    "            self.y[0] = y\n",
    "        val = self.num * (self.x[0] ** self.x[1]) * (self.y[0] ** self.y[1])\n",
    "        if self.symbol == \"-\":\n",
    "            return -val\n",
    "        return val\n",
    "\n",
    "\n",
    "if __name__ == \"__main__\":\n",
    "    eqn = \"12x2y6+32x+5y\"\n",
    "    eqn = eqn.replace(' ', '')\n",
    "    eqn = eqn.replace('+', ' +')\n",
    "    eqn = eqn.replace('-', ' -')\n",
    "    eqn = eqn.split(\" \")\n",
    "\n",
    "    x = 23\n",
    "    y = 32\n",
    "    t = 0\n",
    "    for i in eqn:\n",
    "        t += Test(i).calculate(x,y)\n",
    "    print(t)"
   ]
  },
  {
   "cell_type": "code",
   "execution_count": 55,
   "metadata": {},
   "outputs": [
    {
     "name": "stdout",
     "output_type": "stream",
     "text": [
      "12x2y6 +32x +5y\n"
     ]
    }
   ],
   "source": [
    "eqn = \"12x2y6 +32x +5y\"\n",
    "eqn = eqn.replace(' ', '')\n",
    "eqn = eqn.replace('+', ' +')\n",
    "eqn = eqn.replace('-', ' -')\n",
    "print(eqn)"
   ]
  },
  {
   "cell_type": "code",
   "execution_count": 45,
   "metadata": {},
   "outputs": [
    {
     "name": "stdout",
     "output_type": "stream",
     "text": [
      "x**2 + 1\n",
      "0\n",
      "1\n",
      "5\n"
     ]
    }
   ],
   "source": [
    "from sympy import symbols, diff, expand, sin, exp, log, collect, lambdify\n",
    "\n",
    "x, y, z = symbols(\"x y z\")\n",
    "\n",
    "f = x**2 + 1\n",
    "print(f)\n",
    "\n",
    "# Partial Derivatives\n",
    "df_dx = diff(f, x)\n",
    "df_dy = diff(f, y)\n",
    "df_dz = diff(f, z)\n",
    "\n",
    "# print(\"df/dx:\", df_dx)\n",
    "# print(\"df/dy:\", df_dy)\n",
    "# print(\"df/dz:\", df_dz)\n",
    "\n",
    "expanded_f = f.expand()\n",
    "\n",
    "polynomial_part = collect(expanded_f, x)\n",
    "# print(expanded_f)\n",
    "coeff_x2 = polynomial_part.coeff(z)\n",
    "print(coeff_x2)\n",
    "\n",
    "constant = expanded_f.as_independent(x, y, z)[0]\n",
    "print(constant)\n",
    "\n",
    "f = lambdify((x,y,z),f)\n",
    "print(f(2,1,1))"
   ]
  },
  {
   "cell_type": "code",
   "execution_count": null,
   "metadata": {},
   "outputs": [
    {
     "name": "stdout",
     "output_type": "stream",
     "text": [
      "Polynomial part in terms of x: x**2 + 3*x*y + 5*z*sin(x) + exp(y) + log(z)\n"
     ]
    }
   ],
   "source": [
    "from sympy import symbols, diff, sin, exp, log, collect\n",
    "\n",
    "# Define symbols\n",
    "x, y, z = symbols('x y z')\n",
    "\n",
    "# Define the function\n",
    "f = x**2 + 3*x*y + 5*z*sin(x) + exp(y) + log(z)\n",
    "\n",
    "# Expand the function (helps with collecting polynomial terms)\n",
    "expanded_f = f.expand()\n",
    "\n",
    "# Collect coefficients of terms involving x, ignoring non-polynomial parts\n",
    "polynomial_part = collect(expanded_f, x)\n",
    "print(\"Polynomial part in terms of x:\", polynomial_part)\n",
    "\n",
    "# Example: Coefficient of x**2\n",
    "coeff_x2 = polynomial_part.coeff(x**2)\n",
    "print(\"Coefficient of x^2:\", coeff_x2)\n",
    "\n",
    "# Example: Coefficient of x*y\n",
    "coeff_xy = polynomial_part.coeff(x * y)\n",
    "print(\"Coefficient of x*y:\", coeff_xy)\n"
   ]
  },
  {
   "cell_type": "code",
   "execution_count": null,
   "metadata": {},
   "outputs": [
    {
     "name": "stdout",
     "output_type": "stream",
     "text": [
      "Converged in 22 iterations\n",
      "Solution: {x: 1.956521, y: 2.695651, z: 0.130434}\n"
     ]
    }
   ],
   "source": [
    "from sympy import symbols, Eq, solve\n",
    "import numpy as np\n",
    "\n",
    "def jacobi_iteration(eq1, eq2, eq3, tol=1e-6, max_iter=100):\n",
    "    # Parse equations\n",
    "    x, y, z = symbols(\"x y z\")\n",
    "    equations = [eq1, eq2, eq3]\n",
    "    parsed_eqs = [Eq(eval(eq.split(\"=\")[0]), eval(eq.split(\"=\")[1])) for eq in equations]\n",
    "\n",
    "    # Rearrange equations to express each variable in terms of the others\n",
    "    update_rules = [\n",
    "        solve(eq, var)[0]\n",
    "        for eq, var in zip(parsed_eqs, [x, y, z])\n",
    "    ]\n",
    "\n",
    "    # Initial guess for variables\n",
    "    values = {x: 0.0, y: 0.0, z: 0.0}\n",
    "\n",
    "    # Iterative process\n",
    "    for iteration in range(max_iter):\n",
    "        new_values = {}\n",
    "        for rule, var in zip(update_rules, [x, y, z]):\n",
    "            # Substitute current values into update rule\n",
    "            new_values[var] = rule.evalf(subs=values)\n",
    "        \n",
    "        # Check for convergence\n",
    "        if all(abs(new_values[var] - values[var]) < tol for var in [x, y, z]):\n",
    "            print(f\"Converged in {iteration + 1} iterations\")\n",
    "            return {var: round(new_values[var], 6) for var in [x, y, z]}\n",
    "        \n",
    "        # Update current values\n",
    "        values.update(new_values)\n",
    "\n",
    "    # If the method didn't converge within max_iter\n",
    "    print(\"Jacobi Iteration did not converge.\")\n",
    "    return None\n",
    "\n",
    "# Example usage:\n",
    "eq1 = \"4*x - y - z = 5\"\n",
    "eq2 = \"-x + 3*y - z = 6\"\n",
    "eq3 = \"-x - y + 5*z = -4\"\n",
    "\n",
    "solution = jacobi_iteration(eq1, eq2, eq3)\n",
    "print(\"Solution:\", solution)"
   ]
  }
 ],
 "metadata": {
  "kernelspec": {
   "display_name": "env",
   "language": "python",
   "name": "python3"
  },
  "language_info": {
   "codemirror_mode": {
    "name": "ipython",
    "version": 3
   },
   "file_extension": ".py",
   "mimetype": "text/x-python",
   "name": "python",
   "nbconvert_exporter": "python",
   "pygments_lexer": "ipython3",
   "version": "3.12.4"
  }
 },
 "nbformat": 4,
 "nbformat_minor": 2
}
