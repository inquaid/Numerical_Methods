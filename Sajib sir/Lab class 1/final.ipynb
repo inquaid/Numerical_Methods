{
 "cells": [
  {
   "cell_type": "markdown",
   "metadata": {},
   "source": [
    "# **Code for solving equation**"
   ]
  },
  {
   "cell_type": "code",
   "execution_count": 1,
   "metadata": {},
   "outputs": [],
   "source": [
    "class Test:\n",
    "    def __init__(self, eqn):\n",
    "        self.symbol = \"+\"\n",
    "        self.num = 0\n",
    "        self.x = [-1, 1]  # x[0] = value, x[1] = power\n",
    "        self.y = [-1, 1]  # y[0] = value, y[1] = power\n",
    "\n",
    "        index = 0\n",
    "        length = len(eqn)\n",
    "\n",
    "        if eqn[0] == \"-\":\n",
    "            self.symbol = \"-\"\n",
    "            index += 1\n",
    "        elif eqn[0] == \"+\":\n",
    "            index += 1\n",
    "\n",
    "        num_temp = \"\"\n",
    "        while index < length and eqn[index].isdigit():\n",
    "            num_temp += eqn[index]\n",
    "            index += 1\n",
    "\n",
    "        if num_temp:\n",
    "            self.num = int(num_temp)\n",
    "        elif index < length:\n",
    "            self.num = 1\n",
    "\n",
    "        while index < length and (eqn[index] == \"x\" or eqn[index] == \"y\"):\n",
    "            if eqn[index] == \"x\":\n",
    "                index += 1\n",
    "                power_temp = \"\"\n",
    "                while index < length and eqn[index].isdigit():\n",
    "                    power_temp += eqn[index]\n",
    "                    index += 1\n",
    "                self.x[0] = 1\n",
    "                if power_temp == \"\":\n",
    "                    power_temp = \"1\"\n",
    "                self.x[1] = int(power_temp)\n",
    "            else:\n",
    "                index += 1\n",
    "                power_temp = \"\"\n",
    "                while index < length and eqn[index].isdigit():\n",
    "                    power_temp += eqn[index]\n",
    "                    index += 1\n",
    "                self.y[0] = 1\n",
    "                if power_temp == \"\":\n",
    "                    power_temp = \"1\"\n",
    "                self.y[1] = int(power_temp)\n",
    "\n",
    "    def calculate(self, x, y):\n",
    "        if self.x[0] == -1:\n",
    "            self.x[0] = 1\n",
    "            self.x[1] = 1\n",
    "        else:\n",
    "            self.x[0] = x\n",
    "\n",
    "        if self.y[0] == -1:\n",
    "            self.y[0] = 1\n",
    "            self.y[0] = 1\n",
    "        else:\n",
    "            self.y[0] = y\n",
    "        val = self.num * (self.x[0] ** self.x[1]) * (self.y[0] ** self.y[1])\n",
    "        if self.symbol == \"-\":\n",
    "            return -val\n",
    "        return val\n",
    "\n",
    "\n",
    "def f(eqn=\"0\", *args):\n",
    "    x, y = (args + (0, 0))[:2]\n",
    "    eqn = eqn.replace(\" \", \"\")\n",
    "    eqn = eqn.replace(\"+\", \" +\")\n",
    "    eqn = eqn.replace(\"-\", \" -\")\n",
    "    eqn = eqn.split(\" \")\n",
    "    res = 0\n",
    "    for i in eqn:\n",
    "        res += Test(i).calculate(x, y)\n",
    "    return res\n",
    "\n",
    "\n",
    "# if __name__ == \"__main__\":\n",
    "#     eqn = \"12x2y6+32x+5y\"\n",
    "#     eqn = eqn.replace(\" \", \"\")\n",
    "#     eqn = eqn.replace(\"+\", \" +\")\n",
    "#     eqn = eqn.replace(\"-\", \" -\")\n",
    "#     eqn = eqn.split(\" \")\n",
    "\n",
    "#     x = 2\n",
    "#     y = 3\n",
    "#     t = 0\n",
    "#     for i in eqn:\n",
    "#         t += Test(i).calculate(x, y)\n",
    "#     print(t)"
   ]
  },
  {
   "cell_type": "code",
   "execution_count": 2,
   "metadata": {},
   "outputs": [
    {
     "name": "stdout",
     "output_type": "stream",
     "text": [
      "132\n"
     ]
    }
   ],
   "source": [
    "print(f(\"xy\", 12,11))"
   ]
  },
  {
   "cell_type": "markdown",
   "metadata": {},
   "source": [
    "# **Code for co-efficients extractor**"
   ]
  },
  {
   "cell_type": "code",
   "execution_count": 3,
   "metadata": {},
   "outputs": [],
   "source": [
    "import re\n",
    "\n",
    "class EquationParser:\n",
    "    def __init__(self, equation):\n",
    "        self.equation = equation.replace(\" \", \"\")\n",
    "        self.coefficients = {}\n",
    "        \n",
    "    def parsePolynomial(self):\n",
    "        terms = re.findall(r'([+-]?\\d*)x(\\d+)', self.equation)\n",
    "        # constant = re.search(r'=\\s*([+-]?\\d+)', self.equation)\n",
    "        constant = re.search(r'([+-]?\\d+\\.?\\d*)$', self.equation)\n",
    "       \n",
    "        for term in terms:\n",
    "            coefficient = term[0]\n",
    "            power = int(term[1])  \n",
    "            \n",
    "            if coefficient in ['', '+']:\n",
    "                coefficient = 1\n",
    "            elif coefficient == '-':\n",
    "                coefficient = -1\n",
    "            else:\n",
    "                coefficient = int(coefficient)\n",
    "            \n",
    "            self.coefficients[power] = coefficient  \n",
    "                \n",
    "        # print(self.coefficients[3])\n",
    "        # print(self.coefficients.get(3, 0))\n",
    "        # print()\n",
    "        if constant:\n",
    "            self.coefficients[0] = int(constant.group(1))  \n",
    "        else:\n",
    "            self.coefficients[0] = 0  \n",
    "                \n",
    "    def parseSimul(self):\n",
    "        \n",
    "        terms = re.findall(r'([+-]?\\d+)(\\w+)', self.equation.split('=')[0])       \n",
    "        \n",
    "        constant = re.search(r'=\\s*([+-]?\\d+)', self.equation)\n",
    "        \n",
    "        for term in terms:\n",
    "            coefficient = term[0]\n",
    "            variable = term[1]\n",
    "            \n",
    "            coefficient = float(coefficient)  \n",
    "            self.coefficients[variable] = coefficient  \n",
    "            \n",
    "        if constant:\n",
    "            self.coefficients['constant'] = float(constant.group(1))  \n",
    "        else:\n",
    "            self.coefficients['constant'] = 0  \n",
    "     \n",
    "    def derivative(self):\n",
    "        derivative_terms = []\n",
    "        for power, coefficient in self.coefficients.items():\n",
    "            if power > 0:  \n",
    "                derivative_terms.append(coefficient * power)  \n",
    "        return tuple(derivative_terms)\n",
    "\n",
    "    def get_coefficients(self, *variables):\n",
    "        \n",
    "        return tuple(self.coefficients.get(var, 0) for var in variables)\n",
    "\n",
    "\n",
    "def co_efficients(eqn):\n",
    "    equation2 = eqn\n",
    "    parser2 = EquationParser(equation2)\n",
    "    parser2.parsePolynomial()  \n",
    "    \n",
    "    max_degree = max(parser2.coefficients.keys())\n",
    "    \n",
    "    coefficients = parser2.get_coefficients(*range(max_degree, -1, -1))\n",
    "    \n",
    "    return coefficients\n",
    "\n",
    "# Example usage:\n",
    "# eqn = \"3x4-4x2 =-125\"\n",
    "# coefficients = co_efficients(eqn)\n",
    "# print(f\"Coefficients (from highest degree to constant): {coefficients}\")"
   ]
  },
  {
   "cell_type": "markdown",
   "metadata": {},
   "source": [
    "# **Bisection Method**\n"
   ]
  },
  {
   "cell_type": "code",
   "execution_count": 12,
   "metadata": {},
   "outputs": [
    {
     "name": "stdout",
     "output_type": "stream",
     "text": [
      "-4 -3\n",
      "Root approximately at x = -3.2375\n"
     ]
    }
   ],
   "source": [
    "import numpy as np\n",
    "\n",
    "# eqn = input()\n",
    "eqn = \"14x2+41x-14\"\n",
    "\n",
    "intervals = np.arange(-100, 101)\n",
    "x1 = 0\n",
    "x2 = 0\n",
    "# print(intervals)\n",
    "for i in intervals:\n",
    "    a = f(eqn, i)\n",
    "    b = f(eqn, i + 1)\n",
    "    if (a < 0 and b > 0) or (a > 0 and b < 0):\n",
    "        x1 = i\n",
    "        x2 = i + 1\n",
    "        break\n",
    "print(x1 , x2)\n",
    "a, b, c = co_efficients(eqn)\n",
    "if (b**2 - (4 * a * c)) < 0:\n",
    "    print(\"The roots are not real numbers.\")\n",
    "else:\n",
    "    E = 0.000000001\n",
    "    x0 = 0\n",
    "    while abs(x2 - x1) > E:\n",
    "\n",
    "        x0 = (x1 + x2) / 2\n",
    "        f0 = f(eqn, x0)\n",
    "        f1 = f(eqn, x1)\n",
    "        f2 = f(eqn, x2)\n",
    "\n",
    "        if (f1 * f0) < 0:\n",
    "            x2 = x0\n",
    "        else:\n",
    "            x1 = x0\n",
    "\n",
    "    print(f\"Root approximately at x = {x0:.4f}\")"
   ]
  },
  {
   "cell_type": "markdown",
   "metadata": {},
   "source": [
    "# **False-Position Method**"
   ]
  },
  {
   "cell_type": "code",
   "execution_count": 13,
   "metadata": {},
   "outputs": [
    {
     "name": "stdout",
     "output_type": "stream",
     "text": [
      "-4 -3\n",
      "Root approximately at x = -3.2374\n"
     ]
    }
   ],
   "source": [
    "import numpy as np\n",
    "import sys\n",
    "\n",
    "# eqn = input()\n",
    "eqn = \"14x2+41x-14\"\n",
    "\n",
    "intervals = np.arange(-100, 101)\n",
    "x1 = 0\n",
    "x2 = 0\n",
    "# print(intervals)\n",
    "for i in intervals:\n",
    "    a = f(eqn, i)\n",
    "    b = f(eqn, i + 1)\n",
    "    if (a < 0 and b > 0) or (a > 0 and b < 0):\n",
    "        x1 = i\n",
    "        x2 = i + 1\n",
    "        break\n",
    "print(x1 , x2)\n",
    "a, b, c = co_efficients(eqn)\n",
    "if (b**2 - (4 * a * c)) < 0:\n",
    "    print(\"The roots are not real numbers.\")\n",
    "else:\n",
    "    E = 0.01\n",
    "    x0 = 0\n",
    "    while abs(f(eqn, x0)) > E:\n",
    "\n",
    "        f0 = f(eqn, x0)\n",
    "        f1 = f(eqn, x1)\n",
    "        f2 = f(eqn, x2)\n",
    "        x0 = x1 - ((f1 * (x2 - x1)) / (f2 - f1))\n",
    "\n",
    "        if (f1 * f0) < 0:\n",
    "            x2 = x0\n",
    "        else:\n",
    "            x1 = x0\n",
    "\n",
    "    print(f\"Root approximately at x = {x0:.4f}\")"
   ]
  },
  {
   "cell_type": "markdown",
   "metadata": {},
   "source": [
    "# **Newton Raphson**"
   ]
  },
  {
   "cell_type": "code",
   "execution_count": 6,
   "metadata": {},
   "outputs": [
    {
     "name": "stdout",
     "output_type": "stream",
     "text": [
      "1.0\n"
     ]
    }
   ],
   "source": [
    "from sympy import symbols, diff, sympify\n",
    "import re\n",
    "\n",
    "x = symbols(\"x\")\n",
    "eqn = \"x2-3x+2\"\n",
    "eqn = eqn.replace(\" \", \"\")\n",
    "\n",
    "eqn = re.sub(r\"(\\d)(x)\", r\"\\1*\\2\", eqn)\n",
    "eqn = re.sub(r\"(x)(\\d)\", r\"\\1**\\2\", eqn)\n",
    "\n",
    "poly_expr = sympify(eqn)\n",
    "\n",
    "first_derivative = diff(poly_expr, x)\n",
    "\n",
    "_eqn = str(first_derivative).replace(\"*\", \"\")\n",
    "eqn = eqn.replace(\"*\", \"\")\n",
    "# print(eqn)\n",
    "# print(f(eqn, 0))\n",
    "x1 = 0\n",
    "x2 = 1000\n",
    "E = 0.00001\n",
    "# i = 0\n",
    "while True:\n",
    "    x2 = x1 - (f(eqn, x1) / f(_eqn, x1))\n",
    "    # i += 1\n",
    "    if abs(x2 - x1) < E:\n",
    "        break\n",
    "    x1 = x2\n",
    "print(x2)\n",
    "# print(i)"
   ]
  },
  {
   "cell_type": "markdown",
   "metadata": {},
   "source": [
    "# **Secant Method**"
   ]
  },
  {
   "cell_type": "code",
   "execution_count": 7,
   "metadata": {},
   "outputs": [
    {
     "name": "stdout",
     "output_type": "stream",
     "text": [
      "5.741658764379768\n"
     ]
    }
   ],
   "source": [
    "eqn, x1, x2 = \"x2 - 4x - 10\", 4, 2\n",
    "\n",
    "x3 = 1000\n",
    "E = 0.001 \n",
    "while abs(x2-x1) > E:\n",
    "    f1 = f(eqn, x1)\n",
    "    f2 = f(eqn, x2)\n",
    "    x3 = ((f2 * x1) - (f1 * x2)) / (f2 - f1)\n",
    "    x1 = x2\n",
    "    x2 = x3\n",
    "    # print(x1, x2)\n",
    "print(x3)"
   ]
  },
  {
   "cell_type": "markdown",
   "metadata": {},
   "source": [
    "# **Fixed Point**"
   ]
  },
  {
   "cell_type": "code",
   "execution_count": 8,
   "metadata": {},
   "outputs": [
    {
     "name": "stdout",
     "output_type": "stream",
     "text": [
      "-2.0\n"
     ]
    }
   ],
   "source": [
    "from sympy import symbols, lambdify, sympify\n",
    "\n",
    "x = symbols(\"x\")\n",
    "x0 = 1.0  \n",
    "tol = 1e-6  \n",
    "max_iter = 100  \n",
    "\n",
    "g_str = \"x**2 + x - 2\"  \n",
    "g = lambdify(x, sympify(g_str))\n",
    "\n",
    "xn = x0\n",
    "for i in range(max_iter):\n",
    "    xn_next = g(xn)  \n",
    "    \n",
    "    if abs(xn_next - xn) < tol:\n",
    "        print(f\"Root: {xn_next}, Iterations: {i + 1}\")\n",
    "        break\n",
    "    \n",
    "    xn = xn_next\n",
    "print(xn)\n"
   ]
  },
  {
   "cell_type": "markdown",
   "metadata": {},
   "source": [
    "# **Jacobi**"
   ]
  },
  {
   "cell_type": "code",
   "execution_count": 9,
   "metadata": {},
   "outputs": [
    {
     "name": "stdout",
     "output_type": "stream",
     "text": [
      "4.0 -1.0 -1.0 5.0\n",
      "-1.0 3.0 -1.0 6.0\n",
      "-1.0 -1.0 5.0 -4.0\n",
      "1.9565217391304293 2.6956521739130364 0.13043478260869082\n"
     ]
    }
   ],
   "source": [
    "\n",
    "\n",
    "def f1(x2, x3):\n",
    "    return (d1 - (b1 * x2) - (c1 * x3)) / a1\n",
    "\n",
    "\n",
    "def f2(x1, x3):\n",
    "    return (d2 - (a2 * x1) - (c2 * x3)) / b2\n",
    "\n",
    "\n",
    "def f3(x1, x2):\n",
    "    return (d3 - (a3 * x1) - (b3 * x2)) / c3\n",
    "\n",
    "\n",
    "x1 = 0.0\n",
    "x2 = 0.0\n",
    "x3 = 0.0\n",
    "\n",
    "i = 0\n",
    "\n",
    "# equation1 = input(\"Equation: \")\n",
    "equation1 = \"4x-1y-1z=5\"\n",
    "prsr = EquationParser(equation1)\n",
    "prsr.parseSimul()\n",
    "a1, b1, c1, d1 = prsr.get_coefficients(\"x\", \"y\", \"z\", \"constant\")\n",
    "\n",
    "# equation1 = input(\"Equation: \")\n",
    "equation1 = \"-1x+3y-1z=6\"\n",
    "prsr = EquationParser(equation1)\n",
    "prsr.parseSimul()\n",
    "a2, b2, c2, d2 = prsr.get_coefficients(\"x\", \"y\", \"z\", \"constant\")\n",
    "\n",
    "# equation1 = input(\"Equation: \")\n",
    "equation1 = \"-1x-1y+5z=-4\"\n",
    "prsr = EquationParser(equation1)\n",
    "prsr.parseSimul()\n",
    "a3, b3, c3, d3 = prsr.get_coefficients(\"x\", \"y\", \"z\", \"constant\")\n",
    "\n",
    "print(f\"{a1} {b1} {c1} {d1}\")\n",
    "print(f\"{a2} {b2} {c2} {d2}\")\n",
    "print(f\"{a3} {b3} {c3} {d3}\")\n",
    "\n",
    "prevx1 = x1\n",
    "prevx2 = x2\n",
    "prevx3 = x3\n",
    "while i < 50:\n",
    "    # print(f\"{x1}, {x2}, {x3}\")\n",
    "\n",
    "    temp = f1(x2, x3)\n",
    "    temp2 = f2(x1, x3)\n",
    "    x3 = f3(x1, x2)\n",
    "    x1 = temp\n",
    "    x2 = temp2\n",
    "\n",
    "    # if(x1 ==prevx1 and x2 == prevx2 and x3 == prevx3 ):\n",
    "    #     break\n",
    "\n",
    "    i += 1\n",
    "\n",
    "print(f\"{x1} {x2} {x3}\")\n"
   ]
  },
  {
   "cell_type": "markdown",
   "metadata": {},
   "source": [
    "# **Gauss Seidal**"
   ]
  },
  {
   "cell_type": "code",
   "execution_count": 10,
   "metadata": {},
   "outputs": [
    {
     "name": "stdout",
     "output_type": "stream",
     "text": [
      "4.0 -1.0 -1.0 5.0\n",
      "-1.0 3.0 -1.0 6.0\n",
      "-1.0 -1.0 5.0 -4.0\n",
      "1.9565217391304346 2.6956521739130435 0.13043478260869562\n"
     ]
    }
   ],
   "source": [
    "\n",
    "\n",
    "def f1(x2, x3):\n",
    "    return (d1 - (b1 * x2) - (c1 * x3)) / a1\n",
    "\n",
    "\n",
    "def f2(x1, x3):\n",
    "    return (d2 - (a2 * x1) - (c2 * x3)) / b2\n",
    "\n",
    "\n",
    "def f3(x1, x2):\n",
    "    return (d3 - (a3 * x1) - (b3 * x2)) / c3\n",
    "\n",
    "\n",
    "x1 = 0.0\n",
    "x2 = 0.0\n",
    "x3 = 0.0\n",
    "\n",
    "i = 0\n",
    "\n",
    "# equation1 = input(\"Equation: \")\n",
    "equation1 = \"4x-1y-1z=5\"\n",
    "prsr = EquationParser(equation1)\n",
    "prsr.parseSimul()\n",
    "a1, b1, c1, d1 = prsr.get_coefficients(\"x\", \"y\", \"z\", \"constant\")\n",
    "\n",
    "# equation1 = input(\"Equation: \")\n",
    "equation1 = \"-1x+3y-1z=6\"\n",
    "prsr = EquationParser(equation1)\n",
    "prsr.parseSimul()\n",
    "a2, b2, c2, d2 = prsr.get_coefficients(\"x\", \"y\", \"z\", \"constant\")\n",
    "\n",
    "# equation1 = input(\"Equation: \")\n",
    "equation1 = \"-1x-1y+5z=-4\"\n",
    "prsr = EquationParser(equation1)\n",
    "prsr.parseSimul()\n",
    "a3, b3, c3, d3 = prsr.get_coefficients(\"x\", \"y\", \"z\", \"constant\")\n",
    "\n",
    "print(f\"{a1} {b1} {c1} {d1}\")\n",
    "print(f\"{a2} {b2} {c2} {d2}\")\n",
    "print(f\"{a3} {b3} {c3} {d3}\")\n",
    "\n",
    "prevx1 = x1\n",
    "prevx2 = x2\n",
    "prevx3 = x3\n",
    "while i < 50:\n",
    "    # print(f\"{x1}, {x2}, {x3}\")\n",
    "\n",
    "    x1 = f1(x2, x3)\n",
    "    x2 = f2(x1, x3)\n",
    "    x3 = f3(x1, x2)\n",
    "\n",
    "    # if(x1 ==prevx1 and x2 == prevx2 and x3 == prevx3 ):\n",
    "    #     break\n",
    "\n",
    "    i += 1\n",
    "\n",
    "print(f\"{x1} {x2} {x3}\")\n"
   ]
  },
  {
   "cell_type": "markdown",
   "metadata": {},
   "source": [
    "# **Basic Gauss**"
   ]
  },
  {
   "cell_type": "code",
   "execution_count": null,
   "metadata": {},
   "outputs": [],
   "source": []
  }
 ],
 "metadata": {
  "kernelspec": {
   "display_name": "env",
   "language": "python",
   "name": "python3"
  },
  "language_info": {
   "codemirror_mode": {
    "name": "ipython",
    "version": 3
   },
   "file_extension": ".py",
   "mimetype": "text/x-python",
   "name": "python",
   "nbconvert_exporter": "python",
   "pygments_lexer": "ipython3",
   "version": "3.12.4"
  }
 },
 "nbformat": 4,
 "nbformat_minor": 2
}
