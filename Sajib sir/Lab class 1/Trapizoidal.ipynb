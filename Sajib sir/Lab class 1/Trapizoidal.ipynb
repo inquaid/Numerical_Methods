{
 "cells": [
  {
   "cell_type": "code",
   "execution_count": 17,
   "metadata": {},
   "outputs": [
    {
     "name": "stdout",
     "output_type": "stream",
     "text": [
      "[0.    0.125 0.25  0.375 0.5   0.625 0.75  0.875 1.   ]\n",
      "[1.         0.88888889 0.8        0.72727273 0.66666667 0.61538462\n",
      " 0.57142857 0.53333333 0.5       ]\n",
      "0.0625 1.0 0.5 9.605949605949608\n",
      "0.6941218503718505\n"
     ]
    }
   ],
   "source": [
    "import numpy as np\n",
    "\n",
    "def f(x):\n",
    "    return 1 / (1 + x)\n",
    "\n",
    "a, b, h = list(map(float, input().split()))\n",
    "\n",
    "x = np.arange(a, b + h, h)\n",
    "y = f(x)\n",
    "\n",
    "# print(x)\n",
    "# print(y)\n",
    "\n",
    "h_2 = h / 2\n",
    "y0 = y[0]\n",
    "yn = y[-1]\n",
    "sumOfY = (sum(y) - y0 - yn )* 2\n",
    "# print(h_2, y0, yn, sumOfY)\n",
    "\n",
    "res = h_2 * (y0 + sumOfY + yn)\n",
    "print(res)"
   ]
  },
  {
   "cell_type": "code",
   "execution_count": 26,
   "metadata": {},
   "outputs": [
    {
     "name": "stdout",
     "output_type": "stream",
     "text": [
      "0.6931545306545306\n"
     ]
    }
   ],
   "source": [
    "import numpy as np\n",
    "\n",
    "def f(x):\n",
    "    return 1 / (1 + x)\n",
    "\n",
    "\n",
    "a, b, h = list(map(float, input().split()))\n",
    "\n",
    "x = np.arange(a, b + h, h)\n",
    "y = f(x)\n",
    "\n",
    "# print(x)\n",
    "# print(y)\n",
    "\n",
    "h_3 = h / 3\n",
    "y0 = y[0]\n",
    "yn = y[-1]\n",
    "sumOfYOdd = sum(y[1::2])\n",
    "sumOfYEven = sum(y[2:-1:2])\n",
    "# print(h_3, y0, yn, sumOfY)\n",
    "# print(sumOfYOdd, sumOfYEven)\n",
    "res = h_3 * (y0 + (4 * sumOfYOdd) + (2 * sumOfYEven) + yn)\n",
    "print(res)"
   ]
  },
  {
   "cell_type": "code",
   "execution_count": 41,
   "metadata": {},
   "outputs": [
    {
     "name": "stdout",
     "output_type": "stream",
     "text": [
      "0.6848542082917084\n"
     ]
    }
   ],
   "source": [
    "import numpy as np\n",
    "\n",
    "\n",
    "def f(x):\n",
    "    # return 1 / (1 + x)\n",
    "    return eval(eqn)\n",
    "\n",
    "\n",
    "eqn = input()\n",
    "a, b, h = list(map(float, input().split()))\n",
    "\n",
    "x = np.arange(a, b + h, h)\n",
    "y = f(x)\n",
    "\n",
    "# print(x)\n",
    "# print(y)\n",
    "\n",
    "h_3_8 = (3 * h) / 8\n",
    "y0 = y[0]\n",
    "yn = y[-1]\n",
    "sumOfYThree = sum(y[3:-1:3])\n",
    "sumOfYNotThree = sum(y) - y0 - yn - sumOfYThree\n",
    "# print(h_3_8, y0, yn, sumOfY)\n",
    "# print(sumOfYNotThree, sumOfYThree)\n",
    "res = h_3_8 * (y0 + (3 * sumOfYNotThree) + (2 * sumOfYThree) + yn)\n",
    "print(res)"
   ]
  }
 ],
 "metadata": {
  "kernelspec": {
   "display_name": "env",
   "language": "python",
   "name": "python3"
  },
  "language_info": {
   "codemirror_mode": {
    "name": "ipython",
    "version": 3
   },
   "file_extension": ".py",
   "mimetype": "text/x-python",
   "name": "python",
   "nbconvert_exporter": "python",
   "pygments_lexer": "ipython3",
   "version": "3.12.4"
  }
 },
 "nbformat": 4,
 "nbformat_minor": 2
}
